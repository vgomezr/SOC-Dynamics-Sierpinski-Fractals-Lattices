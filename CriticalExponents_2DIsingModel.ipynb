{
 "cells": [
  {
   "cell_type": "code",
   "execution_count": 1,
   "id": "8113bd2d",
   "metadata": {},
   "outputs": [],
   "source": [
    "import numpy as np\n",
    "import matplotlib.pyplot as plt\n",
    "from tqdm import tqdm\n",
    "import random\n",
    "from sklearn.linear_model import LinearRegression\n",
    "from scipy.optimize import curve_fit"
   ]
  },
  {
   "cell_type": "code",
   "execution_count": 2,
   "id": "086b4739",
   "metadata": {},
   "outputs": [],
   "source": [
    "def total_energy(lattice):\n",
    "    energy = 0\n",
    "    rows, cols = lattice.shape\n",
    "    for i in range(rows):\n",
    "        for j in range(cols):\n",
    "            spin = lattice[i, j]\n",
    "            neighbor_sum = (\n",
    "                lattice[(i + 1) % rows, j] +\n",
    "                lattice[i, (j + 1) % cols] +\n",
    "                lattice[(i - 1) % rows, j] +\n",
    "                lattice[i, (j - 1) % cols]\n",
    "            )\n",
    "            energy += -spin * neighbor_sum\n",
    "            \n",
    "    return energy"
   ]
  },
  {
   "cell_type": "code",
   "execution_count": 3,
   "id": "df5dc2f2",
   "metadata": {},
   "outputs": [],
   "source": [
    "def calculate_energy(lattice, i, j):\n",
    "    size = lattice.shape[0]\n",
    "    \n",
    "    spin_ij = lattice[i, j]\n",
    "\n",
    "    neighbors_indices = [((i+1) % size, j), ((i-1+size) % size, j), (i, (j+1) % size), (i, (j-1+size) % size)]\n",
    "\n",
    "    dE = 0\n",
    "\n",
    "    for ni, nj in neighbors_indices:\n",
    "        if 0 <= ni < size and 0 <= nj < size:\n",
    "            spin_neighbor = lattice[ni, nj]\n",
    "            dE += 2 * spin_ij * spin_neighbor\n",
    "\n",
    "    return dE"
   ]
  },
  {
   "cell_type": "code",
   "execution_count": 4,
   "id": "26e17d74",
   "metadata": {},
   "outputs": [],
   "source": [
    "def metropolis_step(lattice, temperature, energy):\n",
    "    \n",
    "    size = lattice.shape[0]\n",
    "    i, j = random.randint(0, size-1), random.randint(0, size-1)\n",
    "    \n",
    "    beta= 1/temperature\n",
    "    while lattice[i,j] == 0:\n",
    "        i, j = random.randint(0, size-1), random.randint(0, size-1)\n",
    "        \n",
    "    dE = calculate_energy(lattice, i, j)\n",
    "    \n",
    "    if (dE > 0) and (np.random.random() < np.exp(-dE*beta)):\n",
    "        lattice[i, j] *= -1\n",
    "    \n",
    "    elif dE <= 0:\n",
    "        lattice[i, j] *= -1\n",
    "        \n",
    "    if energy == True:\n",
    "        return total_energy(lattice)"
   ]
  },
  {
   "cell_type": "code",
   "execution_count": 5,
   "id": "be2b1779",
   "metadata": {},
   "outputs": [],
   "source": [
    "def swendsen_wang_step(lattice, temperature):\n",
    "    \n",
    "    size = lattice.shape[0]\n",
    "    visited = np.full_like(lattice, -1)\n",
    "\n",
    "    clusters = []\n",
    "    \n",
    "    # Calculate bond probability based on temperature and coupling constant J\n",
    "    J = 1.0  # Coupling constant (you can adjust this as needed)\n",
    "    kb = 1.0  # Boltzmann constant\n",
    "    p = 1.0 - np.exp(-2 * J / (kb * temperature))\n",
    "\n",
    "    for i in range(size):\n",
    "        for j in range(size):\n",
    "            if visited[i, j] == -1:\n",
    "                cluster = set()\n",
    "                stack = [(i, j)]\n",
    "\n",
    "                while stack:\n",
    "                    x, y = stack.pop()\n",
    "                    if visited[x, y] == -1:\n",
    "                        visited[x, y] = 1\n",
    "                        cluster.add((x, y))\n",
    "                        for dx, dy in [(1, 0), (-1, 0), (0, 1), (0, -1)]:\n",
    "                            nx, ny = (x + dx) % size, (y + dy) % size\n",
    "                            if visited[nx, ny] == -1 and lattice[x, y] == lattice[nx, ny] and np.random.rand() < p:\n",
    "                                stack.append((nx, ny))\n",
    "\n",
    "                clusters.append(cluster)\n",
    "    \n",
    "    for cluster in clusters:\n",
    "        if random.random() < 0.5:\n",
    "            for i, j in cluster:\n",
    "                lattice[i, j] *= -1"
   ]
  },
  {
   "cell_type": "code",
   "execution_count": 51,
   "id": "533844a5",
   "metadata": {},
   "outputs": [],
   "source": [
    "def combined_metropolis_swendsen_wang(lattice, temperature, m, n):\n",
    "\n",
    "    magn_= np.zeros(10000)\n",
    "    \n",
    "    for _ in tqdm (range(m), desc=\"Processing Metropolis\"):\n",
    "        metropolis_step(lattice, temperature, False)\n",
    "    for _ in tqdm (range(n), desc=\"Processing Swendsen-Wang\"):\n",
    "        swendsen_wang_step(lattice, temperature)\n",
    "    for _ in tqdm (range(10000), desc=\"Processing Metropolis2\"):\n",
    "        metropolis_step(lattice, temperature, False)\n",
    "        magn_[_]= abs(lattice.sum()/np.count_nonzero(lattice))\n",
    "       \n",
    "    susc= magn_[-10000:].std()\n",
    "    magn= magn_[-10000:].mean()\n",
    "    return magn,susc"
   ]
  },
  {
   "cell_type": "code",
   "execution_count": 52,
   "id": "daffe94f",
   "metadata": {},
   "outputs": [
    {
     "name": "stderr",
     "output_type": "stream",
     "text": [
      "Processing Metropolis: 100%|██████████| 1000000/1000000 [00:11<00:00, 83736.10it/s]\n",
      "Processing Swendsen-Wang: 100%|██████████| 50/50 [00:00<00:00, 2314.66it/s]\n",
      "Processing Metropolis2: 100%|██████████| 10000/10000 [00:00<00:00, 72213.12it/s]\n",
      "Processing Metropolis: 100%|██████████| 1000000/1000000 [00:10<00:00, 96441.54it/s]\n",
      "Processing Swendsen-Wang: 100%|██████████| 50/50 [00:00<00:00, 386.49it/s]\n",
      "Processing Metropolis2: 100%|██████████| 10000/10000 [00:00<00:00, 66880.29it/s]\n",
      "Processing Metropolis: 100%|██████████| 1000000/1000000 [00:11<00:00, 87891.57it/s]\n",
      "Processing Swendsen-Wang: 100%|██████████| 50/50 [00:01<00:00, 48.45it/s]\n",
      "Processing Metropolis2: 100%|██████████| 10000/10000 [00:00<00:00, 27795.16it/s]\n",
      "Processing Metropolis: 100%|██████████| 1000000/1000000 [00:11<00:00, 84817.26it/s]\n",
      "Processing Swendsen-Wang: 100%|██████████| 50/50 [00:02<00:00, 21.78it/s]\n",
      "Processing Metropolis2: 100%|██████████| 10000/10000 [00:00<00:00, 29856.05it/s]\n",
      "Processing Metropolis: 100%|██████████| 1000000/1000000 [00:08<00:00, 114324.83it/s]\n",
      "Processing Swendsen-Wang: 100%|██████████| 50/50 [00:13<00:00,  3.84it/s]\n",
      "Processing Metropolis2: 100%|██████████| 10000/10000 [00:01<00:00, 6754.58it/s]\n"
     ]
    }
   ],
   "source": [
    "sizes= [10,25,50,100,200]\n",
    "temperature = 2.26\n",
    "m_steps = 1000000\n",
    "n_steps = 50\n",
    "magn_=[]\n",
    "sus_=[]\n",
    "for i in range(len(sizes)):\n",
    "    lattice = np.random.choice([-1, 1], size=(sizes[i], sizes[i]))\n",
    "    magn, susc= combined_metropolis_swendsen_wang(lattice, temperature, m_steps, n_steps)\n",
    "    magn_.append(abs(magn))\n",
    "    sus_.append(susc)"
   ]
  },
  {
   "cell_type": "code",
   "execution_count": 53,
   "id": "d5b81b8e",
   "metadata": {
    "scrolled": true
   },
   "outputs": [
    {
     "name": "stdout",
     "output_type": "stream",
     "text": [
      "Coefficient: -0.1223131841974869\n"
     ]
    }
   ],
   "source": [
    "x= np.log(sizes).reshape(-1,1)\n",
    "y= np.log(magn_)\n",
    "model = LinearRegression()\n",
    "model.fit(x, y)\n",
    "coefficients = model.coef_\n",
    "print(\"Coefficient:\", coefficients[0])"
   ]
  },
  {
   "cell_type": "code",
   "execution_count": 55,
   "id": "f5f6d153",
   "metadata": {},
   "outputs": [
    {
     "name": "stdout",
     "output_type": "stream",
     "text": [
      "Coefficient: -1.7313995633053794\n"
     ]
    }
   ],
   "source": [
    "x= np.log(sizes).reshape(-1,1)\n",
    "y= np.log(sus_)\n",
    "model = LinearRegression()\n",
    "model.fit(x, y)\n",
    "coefficients = model.coef_\n",
    "print(\"Coefficient:\", coefficients[0])"
   ]
  },
  {
   "cell_type": "code",
   "execution_count": 49,
   "id": "9b8ee703",
   "metadata": {},
   "outputs": [
    {
     "data": {
      "text/plain": [
       "[0.7405683200000001, 0.76983544, 0.4068946, 0.633598485, 0.68393186875]"
      ]
     },
     "execution_count": 49,
     "metadata": {},
     "output_type": "execute_result"
    }
   ],
   "source": [
    "magn_"
   ]
  },
  {
   "cell_type": "code",
   "execution_count": 10,
   "id": "8b8a93ac",
   "metadata": {},
   "outputs": [
    {
     "data": {
      "text/plain": [
       "[0.10874719372930962,\n",
       " 0.1876480570776047,\n",
       " 0.16737388401914535,\n",
       " 0.22657333477885808,\n",
       " 0.2453375982366046]"
      ]
     },
     "execution_count": 10,
     "metadata": {},
     "output_type": "execute_result"
    }
   ],
   "source": [
    "sus_"
   ]
  },
  {
   "cell_type": "code",
   "execution_count": 25,
   "id": "6dedd9c4",
   "metadata": {},
   "outputs": [
    {
     "name": "stdout",
     "output_type": "stream",
     "text": [
      "Coefficient: -1.7713880444645367\n"
     ]
    }
   ],
   "source": [
    "x= np.log(sizes).reshape(-1,1)\n",
    "y= np.log(sus_)\n",
    "model = LinearRegression()\n",
    "model.fit(x, y)\n",
    "coefficients = model.coef_\n",
    "print(\"Coefficient:\", coefficients[0])"
   ]
  }
 ],
 "metadata": {
  "kernelspec": {
   "display_name": "Python 3 (ipykernel)",
   "language": "python",
   "name": "python3"
  },
  "language_info": {
   "codemirror_mode": {
    "name": "ipython",
    "version": 3
   },
   "file_extension": ".py",
   "mimetype": "text/x-python",
   "name": "python",
   "nbconvert_exporter": "python",
   "pygments_lexer": "ipython3",
   "version": "3.9.7"
  }
 },
 "nbformat": 4,
 "nbformat_minor": 5
}
