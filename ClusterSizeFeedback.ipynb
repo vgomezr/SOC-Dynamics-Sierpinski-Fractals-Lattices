{
 "cells": [
  {
   "cell_type": "code",
   "execution_count": 1,
   "id": "4cf43c18",
   "metadata": {},
   "outputs": [],
   "source": [
    "import numpy as np\n",
    "import matplotlib.pyplot as plt\n",
    "import numba\n",
    "from numba import njit\n",
    "from scipy.ndimage import convolve, generate_binary_structure\n",
    "from sklearn.linear_model import LinearRegression\n",
    "from tqdm import tqdm\n",
    "import random"
   ]
  },
  {
   "cell_type": "markdown",
   "id": "f130f898",
   "metadata": {},
   "source": [
    "# Cluster size feedback on SC"
   ]
  },
  {
   "cell_type": "markdown",
   "id": "2eb50d4d",
   "metadata": {},
   "source": [
    "**The idea:** Implement an algorithm that drives an Ising model constructed on the Sierpinski carpet to self-organize at criticality.\n",
    "\n",
    "**Steps:** \n",
    "1. Build a function that simulates the construction of the Sierpinski carpet and, according to it, create a lattice as a two-dimensional NumPy array with values of 0 if no spin is assigned, or 1 or -1 if a spin corresponds.\n",
    "2. Implement the Metropolis algorithm with $m$ iterations and the Swendsen-Wang algorithm with $n$ iterations to reach equilibrium at an initial temperature.\n",
    "3. Save the last configuration of clusters provided by the Swendsen-Wang algorithm.\n",
    "4. Check if any of those clusters is infinite. If so, increase the temperature by a $dT$. Otherwise, decrease the temperature by a $dT$.\n",
    "5. Repeat steps 2, 3, and 4 with this new temperature until the algorithm converges."
   ]
  },
  {
   "cell_type": "code",
   "execution_count": 2,
   "id": "92afb0ce",
   "metadata": {},
   "outputs": [],
   "source": [
    "def sierpinski_carpet(mask, total): #total number of times the process will be repeated  \n",
    "    for i in range(0, total + 1):\n",
    "        stepdown = 3**(total - i)\n",
    "        for x in range(0, 3**i):\n",
    "          \n",
    "            # checking for the centremost square\n",
    "            if x % 3 == 1:\n",
    "                for y in range(0, 3**i):\n",
    "                    if y % 3 == 1:\n",
    "                      \n",
    "                    # changing its value\n",
    "                        mask[y * stepdown:(y + 1)*stepdown, x * stepdown:(x + 1)*stepdown] = 0\n",
    "                        \n",
    "    return mask"
   ]
  },
  {
   "cell_type": "code",
   "execution_count": 3,
   "id": "f4fe2095",
   "metadata": {},
   "outputs": [],
   "source": [
    "def flattice(times):#total number of times the process will be repeated\n",
    "\n",
    "    N= 3**times # size of the lattice\n",
    "    lattice= np.ones((N,N))\n",
    "    flattice= sierpinski_carpet(lattice, times)\n",
    "    init_random = np.random.random((N,N))\n",
    "    random_filter = sierpinski_carpet(init_random, times)\n",
    "    flattice= flattice.copy()\n",
    "    mask1= random_filter>=0.5 \n",
    "    flattice[mask1] = 1\n",
    "    mask2 = (random_filter<0.5) & (random_filter!= 0)\n",
    "    flattice[mask2] = -1\n",
    "    \n",
    "    return flattice"
   ]
  },
  {
   "cell_type": "code",
   "execution_count": 4,
   "id": "e84201e8",
   "metadata": {},
   "outputs": [],
   "source": [
    "#Auxiliar function for metropolis algorithm\n",
    "def calculate_energy(lattice, i, j):\n",
    "    size = lattice.shape[0]\n",
    "    \n",
    "    spin_ij = lattice[i, j]\n",
    "\n",
    "    neighbors_indices = [((i+1) % size, j), ((i-1+size) % size, j), (i, (j+1) % size), (i, (j-1+size) % size)]\n",
    "\n",
    "\n",
    "    dE = 0\n",
    "\n",
    "    for ni, nj in neighbors_indices:\n",
    "        if 0 <= ni < size and 0 <= nj < size:\n",
    "            spin_neighbor = lattice[ni, nj]\n",
    "            dE += 2 * spin_ij * spin_neighbor\n",
    "\n",
    "    return dE"
   ]
  },
  {
   "cell_type": "code",
   "execution_count": 5,
   "id": "943b1667",
   "metadata": {},
   "outputs": [],
   "source": [
    "def metropolis_step(lattice, temperature):\n",
    "    \n",
    "    size = lattice.shape[0]\n",
    "    i, j = random.randint(0, size-1), random.randint(0, size-1)\n",
    "    \n",
    "    beta= 1/temperature\n",
    "    \n",
    "    while lattice[i,j] == 0:\n",
    "        i, j = random.randint(0, size-1), random.randint(0, size-1)\n",
    "        \n",
    "    dE = calculate_energy(lattice, i, j)\n",
    "    \n",
    "    if (dE > 0) and (np.random.random() < np.exp(-dE*beta)):\n",
    "        lattice[i, j] *= -1\n",
    "    elif dE <= 0:\n",
    "        lattice[i, j] *= -1"
   ]
  },
  {
   "cell_type": "code",
   "execution_count": 6,
   "id": "36c82539",
   "metadata": {},
   "outputs": [],
   "source": [
    "def swendsen_wang_step(lattice, times, temperature, r_clusters):\n",
    "    \n",
    "    size = lattice.shape[0]\n",
    "    \n",
    "    visited = np.full_like(lattice, -1)\n",
    "    \n",
    "    visited = sierpinski_carpet(visited, times)\n",
    "        \n",
    "    clusters = []\n",
    "    \n",
    "    # Calculate bond probability based on temperature and coupling constant J\n",
    "\n",
    "    p = 1.0 - np.exp(-2 /(temperature))\n",
    "\n",
    "    for i in range(size):\n",
    "        for j in range(size):\n",
    "            if visited[i, j] == -1:\n",
    "                cluster = set()\n",
    "                stack = [(i, j)]\n",
    "\n",
    "                while stack:\n",
    "                    x, y = stack.pop()\n",
    "                    if visited[x, y] == -1:\n",
    "                        visited[x, y] = 1\n",
    "                        cluster.add((x, y))\n",
    "                        for dx, dy in [(1, 0), (-1, 0), (0, 1), (0, -1)]:\n",
    "                            nx, ny = x + dx, y + dy  \n",
    "                            if 0 <= nx < size and 0 <= ny < size: \n",
    "                                if visited[nx, ny] == -1 and lattice[x, y] == lattice[nx, ny] and np.random.rand() < p:\n",
    "                                    stack.append((nx, ny))\n",
    "\n",
    "                clusters.append(cluster)\n",
    "    \n",
    "    for cluster in clusters:\n",
    "        if random.random() < 0.5:\n",
    "            for i, j in cluster:\n",
    "                lattice[i, j] *= -1\n",
    "                \n",
    "    if r_clusters == True:  \n",
    "        return clusters"
   ]
  },
  {
   "cell_type": "code",
   "execution_count": 7,
   "id": "bbaa7982",
   "metadata": {},
   "outputs": [],
   "source": [
    "def combined_metropolis_swendsen_wang(lattice, temperature, times,  m, n):\n",
    "    for _ in range(m):\n",
    "        metropolis_step(lattice, temperature)\n",
    "    for _ in range(n):\n",
    "        swendsen_wang_step(lattice, times, temperature, False)"
   ]
  },
  {
   "cell_type": "code",
   "execution_count": 8,
   "id": "574844aa",
   "metadata": {},
   "outputs": [],
   "source": [
    "def is_infinite_cluster(cluster, times):\n",
    "    \n",
    "    min_x = min(coord[0] for coord in cluster)\n",
    "    max_x = max(coord[0] for coord in cluster)\n",
    "    min_y = min(coord[1] for coord in cluster)\n",
    "    max_y = max(coord[1] for coord in cluster)\n",
    "    \n",
    "\n",
    "    grid_size = 3**times\n",
    "    \n",
    "    if (min_x == 0 and max_x == grid_size - 1) or (min_y == 0 and max_y == grid_size - 1):\n",
    "        return True\n",
    "    else:\n",
    "        return False"
   ]
  },
  {
   "cell_type": "code",
   "execution_count": 9,
   "id": "c2fc0b53",
   "metadata": {},
   "outputs": [],
   "source": [
    "def feedback(clusters, dTJ, times):\n",
    "    i=0\n",
    "    while i < len(clusters):\n",
    "        is_infinite = is_infinite_cluster(clusters[i], times)\n",
    "        if is_infinite == True:\n",
    "            deltaTJ= dTJ\n",
    "            break\n",
    "        else:\n",
    "            i+=1\n",
    "            deltaTJ= -dTJ\n",
    "            \n",
    "    return deltaTJ"
   ]
  },
  {
   "cell_type": "code",
   "execution_count": 10,
   "id": "13261527",
   "metadata": {},
   "outputs": [],
   "source": [
    "def get_spin_energy_fb(lattice, times):\n",
    "    \n",
    "    steps= 90\n",
    "    \n",
    "    ms = np.zeros(steps)\n",
    "    number_clusters= np.zeros(steps)\n",
    "    mean_size_cluster= np.zeros(steps)\n",
    "    tjs= np.zeros(steps)\n",
    "\n",
    "    TJ= TJf_\n",
    "    \n",
    "    m= 100000\n",
    "    n= 200\n",
    "    \n",
    "    for i in tqdm (range(steps), desc=\"Implementing feedback\"):\n",
    "        combined_metropolis_swendsen_wang(lattice, TJ, times, m, n)\n",
    "        clusters= swendsen_wang_step(lattice, times, TJ, True)\n",
    "        ms[i] = lattice.sum()/np.count_nonzero(lattice)\n",
    "        number_clusters[i]= len(clusters)\n",
    "        mean_size_cluster[i]= (sum(len(cluster) for cluster in clusters))/len(clusters)\n",
    "        TJ= TJ+ feedback(clusters, dTJ, times)\n",
    "        tjs[i]= TJ\n",
    "    return ms, tjs, number_clusters, mean_size_cluster"
   ]
  },
  {
   "cell_type": "markdown",
   "id": "2897f0ec",
   "metadata": {},
   "source": [
    "First, initialize the algorithm at a temperature below the critical temperature, $T_i = 1.0$. In this case, we will use a lattice with $L = 3^5$. It's important to emphasize that the larger the lattice, the greater the precision in converging to the critical temperature."
   ]
  },
  {
   "cell_type": "code",
   "execution_count": 11,
   "id": "e3703f6e",
   "metadata": {},
   "outputs": [
    {
     "name": "stderr",
     "output_type": "stream",
     "text": [
      "Implementing feedback: 100%|██████████| 90/90 [52:56<00:00, 35.29s/it]\n"
     ]
    }
   ],
   "source": [
    "dTJ= 0.01\n",
    "TJf_=1.0\n",
    "lattice= flattice(5)\n",
    "\n",
    "\n",
    "bjf_=[]\n",
    "ms_=[]\n",
    "nc_=[]\n",
    "msc_=[]\n",
    "\n",
    "ms, bjf, nc, msc= get_spin_energy_fb(lattice, 5)\n",
    "bjf_.append(bjf)\n",
    "ms_.append(ms)\n",
    "nc_.append(nc)\n",
    "msc_.append(msc)"
   ]
  },
  {
   "cell_type": "code",
   "execution_count": 12,
   "id": "72cffb61",
   "metadata": {
    "scrolled": true
   },
   "outputs": [
    {
     "data": {
      "text/plain": [
       "[array([1.01, 1.02, 1.03, 1.04, 1.05, 1.06, 1.07, 1.08, 1.09, 1.1 , 1.11,\n",
       "        1.12, 1.13, 1.14, 1.15, 1.16, 1.17, 1.18, 1.19, 1.2 , 1.21, 1.22,\n",
       "        1.23, 1.24, 1.25, 1.26, 1.27, 1.28, 1.29, 1.3 , 1.31, 1.32, 1.33,\n",
       "        1.34, 1.35, 1.36, 1.37, 1.38, 1.39, 1.4 , 1.41, 1.42, 1.43, 1.44,\n",
       "        1.45, 1.46, 1.47, 1.46, 1.45, 1.46, 1.47, 1.48, 1.47, 1.46, 1.45,\n",
       "        1.46, 1.45, 1.44, 1.43, 1.44, 1.45, 1.46, 1.47, 1.46, 1.45, 1.44,\n",
       "        1.45, 1.46, 1.45, 1.46, 1.47, 1.46, 1.47, 1.46, 1.45, 1.46, 1.45,\n",
       "        1.46, 1.45, 1.44, 1.45, 1.46, 1.47, 1.46, 1.45, 1.46, 1.45, 1.46,\n",
       "        1.45, 1.46])]"
      ]
     },
     "execution_count": 12,
     "metadata": {},
     "output_type": "execute_result"
    }
   ],
   "source": [
    "bjf_"
   ]
  },
  {
   "cell_type": "markdown",
   "id": "269f1437",
   "metadata": {},
   "source": [
    "Now, initialize the algorithm at a temperature above the critical temperature, $T_i=2.0$."
   ]
  },
  {
   "cell_type": "code",
   "execution_count": 13,
   "id": "331e438d",
   "metadata": {},
   "outputs": [
    {
     "name": "stderr",
     "output_type": "stream",
     "text": [
      "Implementing feedback: 100%|██████████| 90/90 [53:43<00:00, 35.81s/it]\n"
     ]
    }
   ],
   "source": [
    "lattice= flattice(5)\n",
    "dTJ= 0.01\n",
    "TJf_=2.0\n",
    "\n",
    "bjf2_=[]\n",
    "ms2_=[]\n",
    "nc2_=[]\n",
    "msc2_=[]\n",
    "\n",
    "ms, bjf, nc, msc= get_spin_energy_fb(lattice, 5)\n",
    "bjf2_.append(bjf)\n",
    "ms2_.append(ms)\n",
    "nc2_.append(nc)\n",
    "msc2_.append(msc)"
   ]
  },
  {
   "cell_type": "code",
   "execution_count": 14,
   "id": "8d941828",
   "metadata": {},
   "outputs": [
    {
     "data": {
      "text/plain": [
       "[array([1.99, 1.98, 1.97, 1.96, 1.95, 1.94, 1.93, 1.92, 1.91, 1.9 , 1.89,\n",
       "        1.88, 1.87, 1.86, 1.85, 1.84, 1.83, 1.82, 1.81, 1.8 , 1.79, 1.78,\n",
       "        1.77, 1.76, 1.75, 1.74, 1.73, 1.72, 1.71, 1.7 , 1.69, 1.68, 1.67,\n",
       "        1.66, 1.65, 1.64, 1.63, 1.62, 1.61, 1.6 , 1.59, 1.58, 1.57, 1.56,\n",
       "        1.55, 1.54, 1.53, 1.52, 1.51, 1.5 , 1.49, 1.48, 1.47, 1.46, 1.47,\n",
       "        1.46, 1.47, 1.46, 1.45, 1.46, 1.45, 1.44, 1.45, 1.46, 1.47, 1.46,\n",
       "        1.45, 1.46, 1.45, 1.46, 1.47, 1.48, 1.47, 1.48, 1.47, 1.48, 1.47,\n",
       "        1.46, 1.45, 1.46, 1.45, 1.44, 1.43, 1.44, 1.43, 1.44, 1.43, 1.44,\n",
       "        1.45, 1.46])]"
      ]
     },
     "execution_count": 14,
     "metadata": {},
     "output_type": "execute_result"
    }
   ],
   "source": [
    "bjf2_"
   ]
  },
  {
   "cell_type": "markdown",
   "id": "098a99bc",
   "metadata": {},
   "source": [
    "## Convergence to critical temperature"
   ]
  },
  {
   "cell_type": "code",
   "execution_count": 15,
   "id": "bed16700",
   "metadata": {},
   "outputs": [
    {
     "data": {
      "text/plain": [
       "Text(0.5, 0, 'Iterative step')"
      ]
     },
     "execution_count": 15,
     "metadata": {},
     "output_type": "execute_result"
    },
    {
     "data": {
      "image/png": "[encoded data removed]",
      "text/plain": [
       "<Figure size 576x288 with 1 Axes>"
      ]
     },
     "metadata": {
      "needs_background": "light"
     },
     "output_type": "display_data"
    }
   ],
   "source": [
    "x= np.arange(90)\n",
    "plt.figure(figsize=(8, 4))  # Adjust the figure size as needed\n",
    "plt.scatter(x, bjf_, s=10, label= r\"$T \\to T_c^{~+}$\")\n",
    "plt.scatter(x, bjf2_, s=10, label= r\"$T \\to T_c^{~-}$\")\n",
    "plt.title(r\"Convergence to Critical Temperature\")\n",
    "plt.axhline(y=1.48, color='red', linestyle='--', label=r'$T=1.48$')\n",
    "plt.ylabel(r'T')\n",
    "plt.legend()\n",
    "plt.xlabel('Iterative step')"
   ]
  },
  {
   "cell_type": "markdown",
   "id": "7ab0133d",
   "metadata": {},
   "source": [
    "## Number of clusters"
   ]
  },
  {
   "cell_type": "code",
   "execution_count": 16,
   "id": "624b41fa",
   "metadata": {},
   "outputs": [],
   "source": [
    "ts= np.array(bjf_.copy())\n",
    "ts2= np.array(bjf2_.copy())\n",
    "ts=abs(ts- 1.48)\n",
    "ts2=abs(ts2 -1.48)"
   ]
  },
  {
   "cell_type": "code",
   "execution_count": 17,
   "id": "675dbb40",
   "metadata": {},
   "outputs": [
    {
     "data": {
      "image/png": "[encoded data removed]",
      "text/plain": [
       "<Figure size 720x288 with 2 Axes>"
      ]
     },
     "metadata": {
      "needs_background": "light"
     },
     "output_type": "display_data"
    }
   ],
   "source": [
    "plt.figure(figsize=(10, 4))  \n",
    "plt.subplot(1, 2, 1) \n",
    "plt.scatter(ts, np.log(nc_), s=10)\n",
    "plt.title(r\"$(a) ~T \\to T_c^{~-}$ Cluster formation\")\n",
    "plt.ylabel('log(Number of clusters)')\n",
    "plt.xlabel('$\\mid T - T_c \\mid$')\n",
    "\n",
    "plt.subplot(1, 2, 2)  # 1 row, 2 columns, subplot 2\n",
    "plt.scatter(ts2, nc2_, color= \"orange\", s=10)\n",
    "plt.title(r\"$(b)~ T \\to T_c^{~+}$ Cluster formation\")\n",
    "plt.ylabel(\"Number of clusters\")\n",
    "plt.xlabel('$\\mid T - T_c \\mid$')\n",
    "\n",
    "plt.tight_layout() "
   ]
  }
 ],
 "metadata": {
  "kernelspec": {
   "display_name": "Python 3 (ipykernel)",
   "language": "python",
   "name": "python3"
  },
  "language_info": {
   "codemirror_mode": {
    "name": "ipython",
    "version": 3
   },
   "file_extension": ".py",
   "mimetype": "text/x-python",
   "name": "python",
   "nbconvert_exporter": "python",
   "pygments_lexer": "ipython3",
   "version": "3.9.7"
  }
 },
 "nbformat": 4,
 "nbformat_minor": 5
}
