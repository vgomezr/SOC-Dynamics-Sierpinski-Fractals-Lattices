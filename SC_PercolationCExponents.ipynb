{
 "cells": [
  {
   "cell_type": "code",
   "execution_count": 1,
   "id": "51f59446",
   "metadata": {},
   "outputs": [],
   "source": [
    "import numpy as np\n",
    "import matplotlib.pyplot as plt\n",
    "import numba\n",
    "from numba import njit\n",
    "from scipy.ndimage import convolve, generate_binary_structure\n",
    "from sklearn.linear_model import LinearRegression\n",
    "from tqdm import tqdm\n",
    "import random\n",
    "from collections import Counter"
   ]
  },
  {
   "cell_type": "markdown",
   "id": "736ca27c",
   "metadata": {},
   "source": [
    "# $d_f$ and $\\tau$ for SC"
   ]
  },
  {
   "cell_type": "markdown",
   "id": "e483e1fd",
   "metadata": {},
   "source": [
    "**The idea:** Calculate the Fisher exponent $\\tau$ and the fractal dimension of the incipient infinite cluster $d_f$ in the Ising-percolation model on the Sierpinski carpet. For this, it is important to take into account that\n",
    "\n",
    "\\begin{align}\n",
    "M_*= L^{d_f}\n",
    "\\end{align}\n",
    "\n",
    "where $M_*$ is the mass of the incipient infinite cluster and $L$ the size of the lattice; and\n",
    "\n",
    "\\begin{align}\n",
    "n_s \\propto s^{-\\tau}\n",
    "\\end{align}\n",
    "\n",
    "where $n_s$ is the number of clusters with size $s$."
   ]
  },
  {
   "cell_type": "code",
   "execution_count": 2,
   "id": "13f8429d",
   "metadata": {},
   "outputs": [],
   "source": [
    "def sierpinski_carpet(mask, total): #total number of times the process will be repeated  \n",
    "    for i in range(0, total + 1):\n",
    "        stepdown = 3**(total - i)\n",
    "        for x in range(0, 3**i):\n",
    "          \n",
    "            # checking for the centremost square\n",
    "            if x % 3 == 1:\n",
    "                for y in range(0, 3**i):\n",
    "                    if y % 3 == 1:\n",
    "                      \n",
    "                    # changing its value\n",
    "                        mask[y * stepdown:(y + 1)*stepdown, x * stepdown:(x + 1)*stepdown] = 0\n",
    "                        \n",
    "    return mask"
   ]
  },
  {
   "cell_type": "code",
   "execution_count": 3,
   "id": "9f9ff328",
   "metadata": {},
   "outputs": [],
   "source": [
    "def flattice(times):\n",
    "    \n",
    "    N= 3**times\n",
    "    lattice= np.random.choice([-1, 1], size=(N, N))\n",
    "    flattice= sierpinski_carpet(lattice, times)\n",
    "    \n",
    "    return flattice"
   ]
  },
  {
   "cell_type": "code",
   "execution_count": 4,
   "id": "1c72c9b6",
   "metadata": {},
   "outputs": [],
   "source": [
    "def calculate_energy(lattice, i, j):\n",
    "    size = lattice.shape[0]\n",
    "    \n",
    "    spin_ij = lattice[i, j]\n",
    "\n",
    "    neighbors_indices = [((i+1) % size, j), ((i-1+size) % size, j), (i, (j+1) % size), (i, (j-1+size) % size)]\n",
    "\n",
    "\n",
    "    dE = 0\n",
    "\n",
    "    for ni, nj in neighbors_indices:\n",
    "        if 0 <= ni < size and 0 <= nj < size:\n",
    "            spin_neighbor = lattice[ni, nj]\n",
    "            dE += 2 * spin_ij * spin_neighbor\n",
    "\n",
    "    return dE"
   ]
  },
  {
   "cell_type": "code",
   "execution_count": 5,
   "id": "99bc9c68",
   "metadata": {},
   "outputs": [],
   "source": [
    "def metropolis_step(lattice, temperature):\n",
    "    \n",
    "    size = lattice.shape[0]\n",
    "    i, j = random.randint(0, size-1), random.randint(0, size-1)\n",
    "    \n",
    "    beta= 1/temperature\n",
    "    while lattice[i,j] == 0:\n",
    "        i, j = random.randint(0, size-1), random.randint(0, size-1)\n",
    "        \n",
    "    dE = calculate_energy(lattice, i, j)\n",
    "    \n",
    "    if (dE > 0) and (np.random.random() < np.exp(-dE*beta)):\n",
    "        lattice[i, j] *= -1\n",
    "    elif dE <= 0:\n",
    "        lattice[i, j] *= -1"
   ]
  },
  {
   "cell_type": "code",
   "execution_count": 6,
   "id": "4d8ca086",
   "metadata": {},
   "outputs": [],
   "source": [
    "def swendsen_wang_step(lattice, times, temperature, r_clusters):\n",
    "    \n",
    "    size = lattice.shape[0]\n",
    "    \n",
    "    visited = np.full_like(lattice, -1)\n",
    "    \n",
    "    visited = sierpinski_carpet(visited, times)\n",
    "    \n",
    "        \n",
    "    clusters = []\n",
    "    \n",
    "    # Calculate bond probability based on temperature and coupling constant J\n",
    "    p = 1.0 - np.exp(-2 /  (temperature))\n",
    "\n",
    "    for i in range(size):\n",
    "        for j in range(size):\n",
    "            if visited[i, j] == -1:\n",
    "                cluster = set()\n",
    "                stack = [(i, j)]\n",
    "\n",
    "                while stack:\n",
    "                    x, y = stack.pop()\n",
    "                    if visited[x, y] == -1:\n",
    "                        visited[x, y] = 1\n",
    "                        cluster.add((x, y))\n",
    "                        for dx, dy in [(1, 0), (-1, 0), (0, 1), (0, -1)]:\n",
    "                            nx, ny = x + dx, y + dy  # Removed modulo operations for no-periodic boundary conditions\n",
    "                            if 0 <= nx < size and 0 <= ny < size:  # Check for valid indices within the lattice\n",
    "                                if visited[nx, ny] == -1 and lattice[x, y] == lattice[nx, ny] and np.random.rand() < p:\n",
    "                                    stack.append((nx, ny))\n",
    "\n",
    "                clusters.append(cluster)\n",
    "    \n",
    "    for cluster in clusters:\n",
    "        if random.random() < 0.5:\n",
    "            for i, j in cluster:\n",
    "                lattice[i, j] *= -1\n",
    "                \n",
    "    if r_clusters == True:  \n",
    "        return clusters"
   ]
  },
  {
   "cell_type": "code",
   "execution_count": 7,
   "id": "295e54d7",
   "metadata": {},
   "outputs": [],
   "source": [
    "def combined_metropolis_swendsen_wang(lattice, temperature, times,  m, n):\n",
    "    for _ in range(m):\n",
    "        metropolis_step(lattice, temperature)\n",
    "    for _ in range(n): \n",
    "        swendsen_wang_step(lattice, times, temperature, False)"
   ]
  },
  {
   "cell_type": "markdown",
   "id": "fbb070b8",
   "metadata": {},
   "source": [
    "## 1. $d_f$ calculation\n",
    "\n",
    "**Steps:**\n",
    "1. Choose different sizes for $L$, in our case $L=(3^4, 3^5, 3^6, 3^7)$.\n",
    "2. For each lattice of size $L$, run $m$ iterations of the Metropolis algorithm and $n$ iterations of the Swendsen-Wang algorithm to reach equilibrium at the critical temperature ($T_c= 1.48$).\n",
    "3. In the final step of the Swendsen-Wang algorithm, save the size of the largest cluster $M_*$.\n",
    "4. Repeat this process 5 times and compute the average of $M_*$ for a more precise prediction.\n",
    "5. Plot $log(\\bar{M_*})$ as a function of $log(L)$ and find the slope. This will correspond to $d_f$.\n",
    "\n",
    "Approximate computation time: 5 hours."
   ]
  },
  {
   "cell_type": "code",
   "execution_count": 8,
   "id": "8aec8c59",
   "metadata": {},
   "outputs": [],
   "source": [
    "def size_infinite_cluster(lattice, times, TJ):\n",
    "    m= 1000000\n",
    "    n=200\n",
    "    size_clusters= []\n",
    "    combined_metropolis_swendsen_wang(lattice, TJ, times, m, n)\n",
    "    clusters= swendsen_wang_step(lattice, times, TJ, True)\n",
    "    size_clusters.extend([len(cluster) for cluster in clusters])\n",
    "    cluster_max= max(size_clusters)          \n",
    "    return cluster_max"
   ]
  },
  {
   "cell_type": "code",
   "execution_count": 9,
   "id": "07e3ff89",
   "metadata": {},
   "outputs": [
    {
     "name": "stderr",
     "output_type": "stream",
     "text": [
      "100%|██████████| 5/5 [11:23:15<00:00, 8199.06s/it] \n"
     ]
    }
   ],
   "source": [
    "sizes=[3,4,5,6,7]\n",
    "m_len_cluster=[]\n",
    "std_len_cluster=[]\n",
    "for i in tqdm (range(len(sizes))):\n",
    "    len_cluster=[]\n",
    "    for k in range(15):\n",
    "        lattice= flattice(sizes[i])\n",
    "        size= size_infinite_cluster(lattice, sizes[i], 1.48)\n",
    "        len_cluster.append(size)\n",
    "    m_len_cluster.append(np.mean(len_cluster))\n",
    "    std_len_cluster.append(np.std(len_cluster))"
   ]
  },
  {
   "cell_type": "code",
   "execution_count": 10,
   "id": "7de9604e",
   "metadata": {},
   "outputs": [
    {
     "name": "stdout",
     "output_type": "stream",
     "text": [
      "Coefficient: 1.7245667330254297\n"
     ]
    }
   ],
   "source": [
    "L=[3**3, 3**4, 3**5, 3**6, 3**7]\n",
    "x= np.log(L)\n",
    "x=np.array(x).reshape(-1,1)\n",
    "y= np.log(m_len_cluster)\n",
    "\n",
    "model = LinearRegression()\n",
    "model.fit(x, y)\n",
    "coefficients = model.coef_\n",
    "print(\"Coefficient:\", coefficients[0])\n",
    "\n",
    "predicted_y = model.predict(x)"
   ]
  },
  {
   "cell_type": "code",
   "execution_count": 11,
   "id": "eda64a22",
   "metadata": {},
   "outputs": [
    {
     "data": {
      "text/plain": [
       "<matplotlib.legend.Legend at 0x7f80fcc1f8b0>"
      ]
     },
     "execution_count": 11,
     "metadata": {},
     "output_type": "execute_result"
    },
    {
     "data": {
      "image/png": "[encoded data removed]",
      "text/plain": [
       "<Figure size 432x288 with 1 Axes>"
      ]
     },
     "metadata": {
      "needs_background": "light"
     },
     "output_type": "display_data"
    }
   ],
   "source": [
    "plt.scatter(x, y)\n",
    "label= fr'$d_f$= {coefficients[0]:.2f}'\n",
    "plt.plot(x, predicted_y, c=\"red\", label=label)\n",
    "plt.title(r\"$d_f$ of infinite cluster on SC lattice\", y=1.02)\n",
    "plt.xlabel(r\"$log(L)$\")\n",
    "plt.ylabel(r\"$log M_*(L)$\")\n",
    "plt.legend()"
   ]
  },
  {
   "cell_type": "markdown",
   "id": "5a141c45",
   "metadata": {},
   "source": [
    "## 2. $\\tau$ calculation"
   ]
  },
  {
   "cell_type": "markdown",
   "id": "7859354b",
   "metadata": {},
   "source": [
    "**Steps:**\n",
    "1. Choose a size  $L$ for the lattice, in our case $L= 3^6$.\n",
    "2. Run $m$ iterations of the Metropolis algorithm and $n$ iterations of the Swendsen-Wang algorithm to reach equilibrium at the critical temperature ($T_c= 1.48$).\n",
    "3. In the final step of the Swendsen-Wang algorithm, save the size of all the clusters.\n",
    "4. Count the frequency ($n_s$) of different cluster sizes ($s$).\n",
    "5. Plot $log(n_s)$ as a function of $log(s)$ and find the slope. This will correspond to $\\tau$.\n",
    "\n",
    "Approximate computation time: 4 minutes."
   ]
  },
  {
   "cell_type": "code",
   "execution_count": 12,
   "id": "7b6729d9",
   "metadata": {},
   "outputs": [],
   "source": [
    "def cluster_distribution(lattice, times, TJ):\n",
    "    m= 1000000\n",
    "    n= 200\n",
    "    size_clusters= []\n",
    "    combined_metropolis_swendsen_wang(lattice, TJ, times, m, n)\n",
    "    clusters= swendsen_wang_step(lattice, times, TJ, True)\n",
    "    size_clusters.extend([(len(cluster)) for cluster in clusters])\n",
    "    return size_clusters"
   ]
  },
  {
   "cell_type": "code",
   "execution_count": 13,
   "id": "6f68b593",
   "metadata": {},
   "outputs": [],
   "source": [
    "sc_=[]\n",
    "\n",
    "lattice= flattice(6)\n",
    "sc= cluster_distribution(lattice, 6, 1.48)\n",
    "\n",
    "#sc_.append(sc)\n",
    "#sc_m=np.mean(np.array(sc_), axis=0)\n",
    "#sc_s= np.std(np.array(sc_), axis=0)\n"
   ]
  },
  {
   "cell_type": "code",
   "execution_count": 14,
   "id": "e5d3dad7",
   "metadata": {},
   "outputs": [],
   "source": [
    "count = Counter(sc)\n",
    "numbers, frequencies = zip(*count.items())\n",
    "x2= np.log(numbers)\n",
    "y2= np.log(frequencies)\n",
    "\n",
    "\n",
    "l= 3.0\n",
    "y1=[yi for yi in y2 if yi > l]\n",
    "selected_indices = [index for index, value in enumerate(y2) if value > l]\n",
    "x1= [x2[index] for index in selected_indices]\n",
    "x1= np.array(x1).reshape(-1,1)"
   ]
  },
  {
   "cell_type": "code",
   "execution_count": 15,
   "id": "fe40596d",
   "metadata": {},
   "outputs": [
    {
     "name": "stdout",
     "output_type": "stream",
     "text": [
      "Coefficient: -2.0774309951418717\n"
     ]
    }
   ],
   "source": [
    "model2 = LinearRegression()\n",
    "model2.fit(x1, y1)\n",
    "coefficients2 = model2.coef_\n",
    "\n",
    "predicted_y2 = model2.predict(x1)\n",
    "\n",
    "print(\"Coefficient:\", coefficients2[0])"
   ]
  },
  {
   "cell_type": "code",
   "execution_count": 16,
   "id": "00d6b738",
   "metadata": {},
   "outputs": [
    {
     "data": {
      "image/png": "[encoded data removed]",
      "text/plain": [
       "<Figure size 432x288 with 1 Axes>"
      ]
     },
     "metadata": {
      "needs_background": "light"
     },
     "output_type": "display_data"
    }
   ],
   "source": [
    "plt.scatter(x2, y2, marker='o', s=15)\n",
    "plt.xlabel(r'$log(s)$')\n",
    "plt.ylabel(r'$log(n_s)$')\n",
    "label= fr'$\\tau$= {coefficients2[0]:.2f}'\n",
    "plt.plot(x1, predicted_y2, c=\"red\", label=label)\n",
    "plt.legend()\n",
    "plt.title(\"Cluster Size Distribution on SC\", y=1.02)\n",
    "\n",
    "\n",
    "\n",
    "# Show the plot\n",
    "plt.show()"
   ]
  }
 ],
 "metadata": {
  "kernelspec": {
   "display_name": "Python 3 (ipykernel)",
   "language": "python",
   "name": "python3"
  },
  "language_info": {
   "codemirror_mode": {
    "name": "ipython",
    "version": 3
   },
   "file_extension": ".py",
   "mimetype": "text/x-python",
   "name": "python",
   "nbconvert_exporter": "python",
   "pygments_lexer": "ipython3",
   "version": "3.9.7"
  }
 },
 "nbformat": 4,
 "nbformat_minor": 5
}
